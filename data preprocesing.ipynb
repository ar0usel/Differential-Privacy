{
 "cells": [
  {
   "cell_type": "code",
   "execution_count": 1,
   "metadata": {},
   "outputs": [],
   "source": [
    "import pandas as pd\n",
    "from sklearn.preprocessing import OneHotEncoder, LabelEncoder"
   ]
  },
  {
   "cell_type": "code",
   "execution_count": 58,
   "metadata": {},
   "outputs": [],
   "source": [
    "data = pd.read_csv(\"data.csv\")\n",
    "test = pd.read_csv(\"test.csv\")\n",
    "data.columns = [\"age\", \"workclass\", \"fnlwgt\", \"education\", \"education-num\", \"marital-status\", \"occupation\", \"relationship\", \"race\", \"sex\", \"capital-gain\", \"capital-loss\", \"hours-per-week\", \"native-country\", \"income\"]\n",
    "test.columns = [\"age\", \"workclass\", \"fnlwgt\", \"education\", \"education-num\", \"marital-status\", \"occupation\", \"relationship\", \"race\", \"sex\", \"capital-gain\", \"capital-loss\", \"hours-per-week\", \"native-country\", \"income\"]\n",
    "dataset = pd.concat([data, test], ignore_index=True)\n"
   ]
  },
  {
   "cell_type": "code",
   "execution_count": 59,
   "metadata": {},
   "outputs": [
    {
     "name": "stdout",
     "output_type": "stream",
     "text": [
      "[6 4 4 ... 4 4 5]\n",
      "[ 9 11  1 ...  9  9  9]\n",
      "[2 0 2 ... 2 0 2]\n",
      "[ 4  6  6 ... 10  1  4]\n",
      "[0 1 0 ... 0 3 0]\n",
      "[4 4 2 ... 4 1 4]\n",
      "[1 1 1 ... 1 1 1]\n",
      "[39 39 39 ... 39 39 39]\n"
     ]
    }
   ],
   "source": [
    "cat = [\"workclass\", \"education\", \"marital-status\", \"occupation\", \"relationship\", \"race\", \"sex\", \"native-country\"]\n",
    "df = pd.DataFrame(columns=cat)\n",
    "for col in cat:\n",
    "    LEnc = LabelEncoder()\n",
    "    tmp = LEnc.fit_transform(dataset[col])\n",
    "    df[col] = tmp\n",
    "    print(tmp)\n",
    "    \n",
    "OHEnc = OneHotEncoder(sparse=False)\n",
    "tmp = OHEnc.fit_transform(df)\n",
    "cont = ['age', 'fnlwgt', 'education-num', 'capital-gain', 'capital-loss', 'hours-per-week', 'income']\n",
    "enc_dataset = pd.concat([pd.DataFrame(tmp, columns=[str(i) for i in range(tmp.shape[1])]), dataset[cont]], axis=1)"
   ]
  },
  {
   "cell_type": "code",
   "execution_count": 63,
   "metadata": {},
   "outputs": [],
   "source": [
    "enc_dataset['income'] = enc_dataset['income'].str.replace('<=50K.', '1')\n",
    "enc_dataset['income'] = enc_dataset['income'].str.replace('<=50K', '1')\n",
    "enc_dataset['income'] = enc_dataset['income'].str.replace('>50K.', '0')\n",
    "enc_dataset['income'] = enc_dataset['income'].str.replace('>50K', '0')"
   ]
  },
  {
   "cell_type": "code",
   "execution_count": 65,
   "metadata": {},
   "outputs": [],
   "source": [
    "enc_dataset.to_csv('train+test.csv')"
   ]
  }
 ],
 "metadata": {
  "kernelspec": {
   "display_name": "Python 3",
   "language": "python",
   "name": "python3"
  },
  "language_info": {
   "codemirror_mode": {
    "name": "ipython",
    "version": 3
   },
   "file_extension": ".py",
   "mimetype": "text/x-python",
   "name": "python",
   "nbconvert_exporter": "python",
   "pygments_lexer": "ipython3",
   "version": "3.6.5"
  }
 },
 "nbformat": 4,
 "nbformat_minor": 2
}
